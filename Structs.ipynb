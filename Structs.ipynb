{
 "cells": [
  {
   "cell_type": "markdown",
   "metadata": {
    "collapsed": false
   },
   "source": [
    "# Examining the `print_structs` Source Code\n",
    "## Alexis Ford and Afnan Alqahtani"
   ]
  },
  {
   "cell_type": "markdown",
   "metadata": {},
   "source": [
    "### 1. The functionality of `print_structs`"
   ]
  },
  {
   "cell_type": "markdown",
   "metadata": {},
   "source": [
    "The `print_structs` begins with `main` that has three variables of type structure `VEC3` and `VEC2` the first variable V takes three arguments and the second variable has two arguments. The x part of v=0, y part of v=0, and the z part of v=0. The x part of w=0, and the y part of w=0.\n",
    "\n",
    "the function `main` prints two tests: first, the pass by value with the original 3 vectors, and the new 3 vector after modification.\n",
    "Second, print pass by reference with two original 2 vector, then change them and print the modified one.\n",
    "\n",
    "In the `structs.c` theres a function name `modifyVec3` of type `VEC3` that has an argument `v` and assign the x part of v to to x with type CUMP, which is another name for the type.\n",
    "\n",
    "Another function name `setVec2` has an argument `wp` witch is a pointer. the variable w of type VEC2 its address can be \"referenced\" as a pointer, so its passed \"by reference\" into the function.\n",
    "\n",
    "\n"
   ]
  },
  {
   "cell_type": "markdown",
   "metadata": {},
   "source": [
    "### 2- The difference between \"pass by value\" and \"pass by reference\" \n",
    "Support your explanation with concrete examples from the program output.\n",
    "\n"
   ]
  },
  {
   "cell_type": "markdown",
   "metadata": {},
   "source": [
    "The pass by value: copy the value in memory, then use the copy one. That copy is passed into the function.\n",
    "\n",
    "Example from the program output:\n",
    "`VEC3 modifyVec3(VEC3 v, COMP x)`\n",
    "\n",
    "The pass by reference: will take the same value and change it means it can be modified directly in memory.\n",
    "\n",
    "Example from the program output:\n",
    "`void setVec2(VEC2 *wp, COMP x, COMP y)`\n"
   ]
  },
  {
   "cell_type": "markdown",
   "metadata": {},
   "source": [
    "\n",
    "### 3- The difference between v.x and v->x for a struct v with field x."
   ]
  },
  {
   "cell_type": "markdown",
   "metadata": {},
   "source": [
    "The arrow means dereferences a pointer to a structure and access a member of structure. its only works with pointers.\n"
   ]
  }
 ],
 "metadata": {
  "kernelspec": {
   "display_name": "Python 2 (SageMath)",
   "language": "python",
   "name": "python2"
  },
  "language_info": {
   "codemirror_mode": {
    "name": "ipython",
    "version": 2
   },
   "file_extension": ".py",
   "mimetype": "text/x-python",
   "name": "python",
   "nbconvert_exporter": "python",
   "pygments_lexer": "ipython2",
   "version": "2.7.10"
  }
 },
 "nbformat": 4,
 "nbformat_minor": 0
}
