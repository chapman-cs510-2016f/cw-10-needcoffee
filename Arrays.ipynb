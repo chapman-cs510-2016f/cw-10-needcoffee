{
 "cells": [
  {
   "cell_type": "markdown",
   "metadata": {},
   "source": [
    "# Examining the `Arrays` Source Code\n",
    "## Alexis Ford and Afnan Alqahtani"
   ]
  },
  {
   "cell_type": "markdown",
   "metadata": {},
   "source": [
    "The `Arrays` source code begins with `main`. inside the main declare an array of `array_size` integers then Allocate a block of `array_size` and assign the address of the beginning of the memory block to a pointer and return a pointer to the block we just create. \n",
    "Then an if statement to check the pointer. If it fails and return NULL it will handle it and return a non-successful integer and print to the \"file\" of standard error `\"stderr\"`. anything written to standard error is not buffered so it is immediately written to the screen.\n",
    "\n",
    "\n",
    "There’s a constant character array. Create a pointer of string call `foo bar.` declaring a variable to be a const, means read-only variable and that it won't be changed.\n",
    "\n",
    "Another for loop iterate through the `array_size` and assign the value i to the ith element which is Zero. then set the value inside the memory address at memblock + (i bytes) to i. when we increment the memory address, incrementing the same amount can be different bit length depending on the type of initial memory address. For example doing `(memory address+1)` on int array moves 4 bits. and doing `(memory address+1)` on character array movies 1 bit.\n",
    "\n",
    "Moreover, another for loop that increment three bytes beyond the allocated memory `(array_size + 3)` then 1- print the array values 2- print the values contained in each memory address from memblock.3-print each character in the string `Foo` then print it from the pointer.\n",
    "\n",
    "`free(memblock)` will releases the memory at the allocator(memblock).\n",
    "`malloc` is a function allocate a block of memory of the size we assigned and return a pointer to the block we create.\n"
   ]
  },
  {
   "cell_type": "markdown",
   "metadata": {},
   "source": [
    "## The Code:"
   ]
  },
  {
   "cell_type": "code",
   "execution_count": 1,
   "metadata": {
    "collapsed": true
   },
   "outputs": [
    {
     "name": "stdout",
     "output_type": "stream",
     "text": [
      "Arrays.ipynb    INSTRUCTIONS.md  Makefile   \u001b[0m\u001b[01;34mbin\u001b[0m  \u001b[01;34mtest\u001b[0m\r\n",
      "\u001b[01;32mBitPrint.ipynb\u001b[0m  LICENSE          README.md  \u001b[01;34msrc\u001b[0m\r\n"
     ]
    }
   ],
   "source": [
    "ls"
   ]
  },
  {
   "cell_type": "code",
   "execution_count": 3,
   "metadata": {
    "collapsed": true
   },
   "outputs": [
    {
     "name": "stdout",
     "output_type": "stream",
     "text": [
      "mkdir -p bin\r\n",
      "make -C src/\r\n",
      "make[1]: Entering directory '/projects/41c9f4bc-c07c-41df-9823-f8f65ac3a0a3/All_Class_Work/cw-10-needcoffee/src'\r\n",
      "make -C bit_print/\r\n",
      "make[2]: Entering directory '/projects/41c9f4bc-c07c-41df-9823-f8f65ac3a0a3/All_Class_Work/cw-10-needcoffee/src/bit_print'\r\n",
      "# Symbolically link binary into binary folder\r\n",
      "ln -sf ../src/bit_print/print_types ../../bin/\r\n",
      "make[2]: Leaving directory '/projects/41c9f4bc-c07c-41df-9823-f8f65ac3a0a3/All_Class_Work/cw-10-needcoffee/src/bit_print'\r\n",
      "make -C arrays/\r\n",
      "make[2]: Entering directory '/projects/41c9f4bc-c07c-41df-9823-f8f65ac3a0a3/All_Class_Work/cw-10-needcoffee/src/arrays'\r\n",
      "gcc -Wall -O2  -L/projects/sage/sage-7.3/local/lib -Wl,-rpath,/projects/sage/sage-7.3/local/lib   arrays.c   -o arrays\r\n",
      "# Symbolically link binary into the binary folder\r\n",
      "ln -sf ../src/arrays/arrays ../../bin/\r\n",
      "make[2]: Leaving directory '/projects/41c9f4bc-c07c-41df-9823-f8f65ac3a0a3/All_Class_Work/cw-10-needcoffee/src/arrays'\r\n",
      "make -C structs/\r\n",
      "make[2]: Entering directory '/projects/41c9f4bc-c07c-41df-9823-f8f65ac3a0a3/All_Class_Work/cw-10-needcoffee/src/structs'\r\n",
      "ln -sf ../src/structs/print_structs ../../bin/\r\n",
      "make[2]: Leaving directory '/projects/41c9f4bc-c07c-41df-9823-f8f65ac3a0a3/All_Class_Work/cw-10-needcoffee/src/structs'\r\n",
      "make[1]: Leaving directory '/projects/41c9f4bc-c07c-41df-9823-f8f65ac3a0a3/All_Class_Work/cw-10-needcoffee/src'\r\n",
      "make -C test/\r\n",
      "make[1]: Entering directory '/projects/41c9f4bc-c07c-41df-9823-f8f65ac3a0a3/All_Class_Work/cw-10-needcoffee/test'\r\n",
      "make[1]: Nothing to be done for 'all'.\r\n",
      "make[1]: Leaving directory '/projects/41c9f4bc-c07c-41df-9823-f8f65ac3a0a3/All_Class_Work/cw-10-needcoffee/test'\r\n"
     ]
    }
   ],
   "source": [
    "make"
   ]
  },
  {
   "cell_type": "code",
   "execution_count": 4,
   "metadata": {
    "collapsed": false
   },
   "outputs": [
    {
     "name": "stdout",
     "output_type": "stream",
     "text": [
      "array[0] : 0\t*(memblock + 0) : 0\tfoo[0] : F\t*(foo + 0) : F\r\n",
      "array[1] : 1\t*(memblock + 1) : 1\tfoo[1] : o\t*(foo + 1) : o\r\n",
      "array[2] : 2\t*(memblock + 2) : 2\tfoo[2] : o\t*(foo + 2) : o\r\n",
      "array[3] : 3\t*(memblock + 3) : 3\tfoo[3] :  \t*(foo + 3) :  \r\n",
      "array[4] : 4\t*(memblock + 4) : 4\tfoo[4] : b\t*(foo + 4) : b\r\n",
      "array[5] : 5\t*(memblock + 5) : 5\tfoo[5] : a\t*(foo + 5) : a\r\n",
      "array[6] : 6\t*(memblock + 6) : 6\tfoo[6] : r\t*(foo + 6) : r\r\n",
      "array[7] : 7\t*(memblock + 7) : 7\tfoo[7] :  \t*(foo + 7) :  \r\n",
      "array[8] : 8\t*(memblock + 8) : 8\tfoo[8] : .\t*(foo + 8) : .\r\n",
      "array[9] : 9\t*(memblock + 9) : 9\tfoo[9] : \u0000\t*(foo + 9) : \u0000\r\n",
      "array[10] : 381344768\t*(memblock + 10) : 135121\tfoo[10] : m\t*(foo + 10) : m\r\n",
      "array[11] : -1026426798\t*(memblock + 11) : 0\tfoo[11] : a\t*(foo + 11) : a\r\n",
      "array[12] : 0\t*(memblock + 12) : 0\tfoo[12] : l\t*(foo + 12) : l\r\n"
     ]
    }
   ],
   "source": [
    "./bin/arrays"
   ]
  }
 ],
 "metadata": {
  "kernelspec": {
   "display_name": "Bash (Linux)",
   "language": "bash",
   "name": "bash"
  },
  "language_info": {
   "codemirror_mode": "shell",
   "file_extension": ".sh",
   "mimetype": "text/x-sh",
   "name": "bash"
  }
 },
 "nbformat": 4,
 "nbformat_minor": 0
}
