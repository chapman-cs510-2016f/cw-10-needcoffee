{
 "cells": [
  {
   "cell_type": "markdown",
   "metadata": {},
   "source": [
    "# Examining the `bit_print` Source Code\n",
    "## Alexis Ford and Afnan Alqahtani\n",
    "### 1. The functionality of `print_types`\n",
    "The `print_types` source code begins with `main`, which takes an integer as user input and assigns it to the `unsigned int`, `C`; if there is no user input, that is, if `argc` is not 2, then the value of `C` defaults to 65, which is the ASCII code for `A`. From there, variables of several primitive types (`char, unsigned char, short int, int, long int, unsigned int, unsigned long int, unsigned long long int, float, double, long double`) are created and initialized to have the value of `C`. Only the cast to `char` is done explicitly; the other types are left to be implicitly converted by the compiler.  \n",
    "  \n",
    "The last section of `print_types` outputs a bit string for each of the different type variables using the functions `print_type` and `print_bits`. The function `print_types` takes a constant variable called `name`, which is a pointer to a character (a string), and a constant called `size` of type `size_t`; it returns nothing (`void`), but prints type name, number of bytes, and number of bits of the variable. The function `print_bits` takes a constant called `size` of type `size_type`, and a constant pointer `ptr` of type `void`; it prints the bit string stored `ptr` that contains `size` bytes.\n",
    "\n",
    "### 2. Integer Values for several Charaters\n",
    "  Letter  | Integer Value\n",
    "  ------------- | -------------\n",
    "  `A` (65)  | 00000000000000000000000001000001\n",
    "  `Z` (90)  | 00000000000000000000000001011010\n",
    "  `a` (97)  | 00000000000000000000000001100001\n",
    "  `z` (122)  | 00000000000000000000000001111010\n",
    "  \n",
    "The integer values correspond to the binary representation of each letter's ASCII character code, which is indicated in parentheses next to the character.\n",
    "### 3. Integer Values for several Numbers as Characters\n",
    "  Number (as character)  | Integer Value\n",
    "  ------------- | -------------\n",
    "  `0` (48)  | 00000000000000000000000000110000\n",
    "  `1` (49)  | 00000000000000000000000000110001\n",
    "  `9` (57)  | 00000000000000000000000000111001\n",
    "  \n",
    "The integer values correspond to the binary representation of each number's ASCII character code, which is indicated in parentheses next to the character.\n",
    "\n",
    "### 4. Storing a 2D Array\n",
    "In order to store a 2D of 10000x10000 array of complex numbers, we start by determining the number of complex numbers that can be stored in such an array, which is $10^4\\cdot10^4=10^8$. Each complex number contains a real part and an imaginary part and, assuming these part are of the same type, will have a total size of $2b$, where $b$ is the number of bytes for one part of the complex number. Thus the array will have a total size of $2b\\times10^8$.\n",
    "#### Using `short int`s\n",
    "A short integer is of size 2 bytes, which means the array will be of size $4\\times10^8$ bytes, or 400 megabytes.\n",
    "#### Using `long double`s\n",
    "A long double is of size 16 bytes, which means the array will be of size $3.2\\times10^9$ bytes, which is 3.2 gigabytes.\n",
    "### 5. Writing the bit string of an unsigned integer as an integer\n",
    "The bit string of an unsigned integer is simple the binary representation of that number. For example, the number 30 written as a sum of powers of 2 would be $1\\times2^4+1\\times2^3+1\\times2^2+1\\times2^1+0\\times2^0$, which is the binary number 11110. Since integer types contain at 32 bits, meaning the bit string has 32 digits, the binary number will be preceeded by the appropriate \n",
    "### 6. Writing the bit string of a signed integer as an integer\n",
    "Because of the inclusion of information about the number's sign, signed integers are slightly different. Signed integers are still 32 bits in size, but the leading digit now holds the information for the sign of the integer: a 1 if the integer is negative, a 0 otherwise. An important implication of doing this is the decreased maximum size of signed integers. While unsigned integers can range from 0 to 4,294,967,295, signed integers lose the bit representing $2\\times10^32$ to the indication of whether or not the number is negative. This means that the range of signed integers is from -2,147,483,648 to 2,147,483,647.   \n",
    "  \n",
    "Now that we have accounted for the sign of the integer, the task becomes to represent the integer's value. One intuitive way to do this is to take an unsigned integer, change every 1 to a 0 and every 0 to a 1, and change the leading digit to a 1 to indicate a negative sign. Using this method, the positive integer 1, written 00000000000000000000000000000001 as a 32 bit integer, would become  11111111111111111111111111111110 to represent -1. This representation becomes a problem as soon as we try arithmetic on the integers; adding together our representations of -1 and 1 would not give us 0. However, this problem is easily fixed if we not only flip all the ones and zeros, but add 1 as well. This means that -1, now represented as 11111111111111111111111111111111, added to 1, 00000000000000000000000000000001, would yield 0. This system, called 2's complement, is how negative integers are represented as bit strings."
   ]
  }
 ],
 "metadata": {
  "anaconda-cloud": {},
  "kernelspec": {
   "display_name": "Python [default]",
   "language": "python",
   "name": "python3"
  },
  "language_info": {
   "codemirror_mode": {
    "name": "ipython",
    "version": 3
   },
   "file_extension": ".py",
   "mimetype": "text/x-python",
   "name": "python",
   "nbconvert_exporter": "python",
   "pygments_lexer": "ipython3",
   "version": "3.5.2"
  }
 },
 "nbformat": 4,
 "nbformat_minor": 1
}
